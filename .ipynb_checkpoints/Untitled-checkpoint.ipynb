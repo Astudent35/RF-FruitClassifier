{
 "cells": [
  {
   "cell_type": "markdown",
   "metadata": {},
   "source": [
    "## Fruit classification"
   ]
  },
  {
   "cell_type": "code",
   "execution_count": 27,
   "metadata": {},
   "outputs": [],
   "source": [
    "import numpy as np\n",
    "import tensorflow as tf\n",
    "import pandas as pd\n",
    "import matplotlib.pyplot as plt\n",
    "import matplotlib.image as mpimg\n",
    "from keras.preprocessing.image import ImageDataGenerator\n",
    "from keras.models import Sequential \n",
    "from keras.layers import Conv2D, MaxPooling2D, Activation, Dropout, Flatten, Dense\n",
    "from tensorflow.keras.optimizers import RMSprop\n",
    "from keras.preprocessing import image\n",
    "import os\n",
    "from glob import glob"
   ]
  },
  {
   "cell_type": "code",
   "execution_count": 28,
   "metadata": {},
   "outputs": [],
   "source": [
    "train_dir = './fruit_data/train/'\n",
    "test_dir =  './fruit_data/test/'"
   ]
  },
  {
   "cell_type": "code",
   "execution_count": 29,
   "metadata": {},
   "outputs": [],
   "source": [
    "fruitCountUnique = glob(train_dir + '/*' )\n",
    "numberOfClass = len(fruitCountUnique)"
   ]
  },
  {
   "cell_type": "code",
   "execution_count": 30,
   "metadata": {},
   "outputs": [
    {
     "name": "stdout",
     "output_type": "stream",
     "text": [
      "Model: \"sequential_2\"\n",
      "_________________________________________________________________\n",
      "Layer (type)                 Output Shape              Param #   \n",
      "=================================================================\n",
      "conv2d_10 (Conv2D)           (None, 98, 98, 32)        896       \n",
      "_________________________________________________________________\n",
      "activation (Activation)      (None, 98, 98, 32)        0         \n",
      "_________________________________________________________________\n",
      "max_pooling2d_10 (MaxPooling (None, 49, 49, 32)        0         \n",
      "_________________________________________________________________\n",
      "conv2d_11 (Conv2D)           (None, 47, 47, 32)        9248      \n",
      "_________________________________________________________________\n",
      "activation_1 (Activation)    (None, 47, 47, 32)        0         \n",
      "_________________________________________________________________\n",
      "max_pooling2d_11 (MaxPooling (None, 23, 23, 32)        0         \n",
      "_________________________________________________________________\n",
      "conv2d_12 (Conv2D)           (None, 21, 21, 64)        18496     \n",
      "_________________________________________________________________\n",
      "activation_2 (Activation)    (None, 21, 21, 64)        0         \n",
      "_________________________________________________________________\n",
      "max_pooling2d_12 (MaxPooling (None, 10, 10, 64)        0         \n",
      "_________________________________________________________________\n",
      "flatten_2 (Flatten)          (None, 6400)              0         \n",
      "_________________________________________________________________\n",
      "dense_4 (Dense)              (None, 1024)              6554624   \n",
      "_________________________________________________________________\n",
      "activation_3 (Activation)    (None, 1024)              0         \n",
      "_________________________________________________________________\n",
      "dropout_2 (Dropout)          (None, 1024)              0         \n",
      "_________________________________________________________________\n",
      "dense_5 (Dense)              (None, 131)               134275    \n",
      "_________________________________________________________________\n",
      "activation_4 (Activation)    (None, 131)               0         \n",
      "=================================================================\n",
      "Total params: 6,717,539\n",
      "Trainable params: 6,717,539\n",
      "Non-trainable params: 0\n",
      "_________________________________________________________________\n"
     ]
    }
   ],
   "source": [
    "model = Sequential()\n",
    "model.add(Conv2D(32,(3,3),input_shape = (100, 100, 3)))\n",
    "model.add(Activation(\"relu\"))\n",
    "model.add(MaxPooling2D())\n",
    "\n",
    "model.add(Conv2D(32,(3,3)))\n",
    "model.add(Activation(\"relu\"))\n",
    "model.add(MaxPooling2D())\n",
    "\n",
    "model.add(Conv2D(64,(3,3)))\n",
    "model.add(Activation(\"relu\"))\n",
    "model.add(MaxPooling2D())\n",
    "\n",
    "model.add(Flatten())\n",
    "model.add(Dense(1024))\n",
    "model.add(Activation(\"relu\"))\n",
    "model.add(Dropout(0.5))\n",
    "model.add(Dense(numberOfClass)) # output\n",
    "model.add(Activation(\"softmax\"))\n",
    "# summary of the model\n",
    "model.summary()\n",
    "\n",
    "# configure the model for training by adding metrics\n",
    "model.compile(loss='categorical_crossentropy', optimizer=\"rmsprop\", metrics = ['accuracy'])"
   ]
  },
  {
   "cell_type": "code",
   "execution_count": 31,
   "metadata": {},
   "outputs": [],
   "source": [
    "epochs = 100  \n",
    "batch_size = 32"
   ]
  },
  {
   "cell_type": "code",
   "execution_count": 32,
   "metadata": {},
   "outputs": [
    {
     "name": "stdout",
     "output_type": "stream",
     "text": [
      "Found 67692 images belonging to 131 classes.\n",
      "Found 22688 images belonging to 131 classes.\n"
     ]
    }
   ],
   "source": [
    "train_datagen = ImageDataGenerator(rescale= 1./255,\n",
    "                   shear_range = 0.3,\n",
    "                   horizontal_flip=True,\n",
    "                   zoom_range = 0.3)\n",
    "\n",
    "test_datagen = ImageDataGenerator(rescale= 1./255)\n",
    "\n",
    "train_generator = train_datagen.flow_from_directory(\n",
    "        train_dir, \n",
    "        target_size= (100, 100),\n",
    "        batch_size = batch_size,\n",
    "        color_mode= \"rgb\",\n",
    "        class_mode= \"categorical\")\n",
    "\n",
    "test_generator = test_datagen.flow_from_directory(\n",
    "        test_dir, \n",
    "        target_size= (100, 100),\n",
    "        batch_size = batch_size,\n",
    "        color_mode= \"rgb\",\n",
    "        class_mode= \"categorical\")"
   ]
  },
  {
   "cell_type": "code",
   "execution_count": 33,
   "metadata": {},
   "outputs": [
    {
     "name": "stdout",
     "output_type": "stream",
     "text": [
      "Epoch 1/100\n",
      "50/50 [==============================] - 18s 364ms/step - loss: 4.6733 - accuracy: 0.0344 - val_loss: 4.0588 - val_accuracy: 0.1063\n",
      "Epoch 2/100\n",
      "50/50 [==============================] - 21s 427ms/step - loss: 3.7292 - accuracy: 0.1144 - val_loss: 3.0130 - val_accuracy: 0.2387\n",
      "Epoch 3/100\n",
      "50/50 [==============================] - 23s 457ms/step - loss: 3.0575 - accuracy: 0.1950 - val_loss: 2.2146 - val_accuracy: 0.4175\n",
      "Epoch 4/100\n",
      "50/50 [==============================] - 19s 389ms/step - loss: 2.4782 - accuracy: 0.2981 - val_loss: 2.0609 - val_accuracy: 0.3950\n",
      "Epoch 5/100\n",
      "50/50 [==============================] - 18s 352ms/step - loss: 2.1193 - accuracy: 0.3894 - val_loss: 1.8664 - val_accuracy: 0.4875\n",
      "Epoch 6/100\n",
      "50/50 [==============================] - 18s 351ms/step - loss: 1.7960 - accuracy: 0.4669 - val_loss: 1.6084 - val_accuracy: 0.5163\n",
      "Epoch 7/100\n",
      "50/50 [==============================] - 18s 350ms/step - loss: 1.5704 - accuracy: 0.5194 - val_loss: 1.0876 - val_accuracy: 0.7000\n",
      "Epoch 8/100\n",
      "50/50 [==============================] - 18s 352ms/step - loss: 1.3988 - accuracy: 0.5431 - val_loss: 0.9890 - val_accuracy: 0.7325\n",
      "Epoch 9/100\n",
      "50/50 [==============================] - 18s 357ms/step - loss: 1.2227 - accuracy: 0.6225 - val_loss: 1.0786 - val_accuracy: 0.6712\n",
      "Epoch 10/100\n",
      "50/50 [==============================] - 18s 355ms/step - loss: 1.1071 - accuracy: 0.6419 - val_loss: 0.6477 - val_accuracy: 0.8263\n",
      "Epoch 11/100\n",
      "50/50 [==============================] - 17s 346ms/step - loss: 0.9966 - accuracy: 0.6875 - val_loss: 0.6585 - val_accuracy: 0.8138\n",
      "Epoch 12/100\n",
      "50/50 [==============================] - 18s 353ms/step - loss: 0.9372 - accuracy: 0.7050 - val_loss: 0.5808 - val_accuracy: 0.8213\n",
      "Epoch 13/100\n",
      "50/50 [==============================] - 17s 350ms/step - loss: 0.8646 - accuracy: 0.7513 - val_loss: 0.7544 - val_accuracy: 0.7650\n",
      "Epoch 14/100\n",
      "50/50 [==============================] - 18s 351ms/step - loss: 0.7688 - accuracy: 0.7475 - val_loss: 0.7148 - val_accuracy: 0.7663\n",
      "Epoch 15/100\n",
      "50/50 [==============================] - 18s 354ms/step - loss: 0.7884 - accuracy: 0.7519 - val_loss: 0.4506 - val_accuracy: 0.8637\n",
      "Epoch 16/100\n",
      "50/50 [==============================] - 18s 352ms/step - loss: 0.6512 - accuracy: 0.8025 - val_loss: 0.3435 - val_accuracy: 0.8988\n",
      "Epoch 17/100\n",
      "50/50 [==============================] - 18s 354ms/step - loss: 0.6378 - accuracy: 0.7969 - val_loss: 0.5075 - val_accuracy: 0.8525\n",
      "Epoch 18/100\n",
      "50/50 [==============================] - 17s 346ms/step - loss: 0.5989 - accuracy: 0.8063 - val_loss: 0.4277 - val_accuracy: 0.8788\n",
      "Epoch 19/100\n",
      "50/50 [==============================] - 18s 352ms/step - loss: 0.4977 - accuracy: 0.8294 - val_loss: 0.5483 - val_accuracy: 0.8338\n",
      "Epoch 20/100\n",
      "50/50 [==============================] - 18s 354ms/step - loss: 0.5301 - accuracy: 0.8275 - val_loss: 0.6112 - val_accuracy: 0.8225\n",
      "Epoch 21/100\n",
      "50/50 [==============================] - 18s 355ms/step - loss: 0.5451 - accuracy: 0.8356 - val_loss: 0.4443 - val_accuracy: 0.8512\n",
      "Epoch 22/100\n",
      "50/50 [==============================] - 17s 344ms/step - loss: 0.4722 - accuracy: 0.8456 - val_loss: 0.2988 - val_accuracy: 0.9137\n",
      "Epoch 23/100\n",
      "50/50 [==============================] - 18s 353ms/step - loss: 0.4490 - accuracy: 0.8631 - val_loss: 0.2645 - val_accuracy: 0.9162\n",
      "Epoch 24/100\n",
      "50/50 [==============================] - 17s 350ms/step - loss: 0.4153 - accuracy: 0.8594 - val_loss: 0.4617 - val_accuracy: 0.8587\n",
      "Epoch 25/100\n",
      "50/50 [==============================] - 17s 348ms/step - loss: 0.4109 - accuracy: 0.8675 - val_loss: 0.2000 - val_accuracy: 0.9362\n",
      "Epoch 26/100\n",
      "50/50 [==============================] - 17s 345ms/step - loss: 0.4165 - accuracy: 0.8525 - val_loss: 0.2747 - val_accuracy: 0.9137\n",
      "Epoch 27/100\n",
      "50/50 [==============================] - 18s 350ms/step - loss: 0.3932 - accuracy: 0.8687 - val_loss: 0.2570 - val_accuracy: 0.9162\n",
      "Epoch 28/100\n",
      "50/50 [==============================] - 17s 343ms/step - loss: 0.3396 - accuracy: 0.8913 - val_loss: 0.3116 - val_accuracy: 0.9150\n",
      "Epoch 29/100\n",
      "50/50 [==============================] - 17s 350ms/step - loss: 0.3545 - accuracy: 0.8831 - val_loss: 0.3159 - val_accuracy: 0.9200\n",
      "Epoch 30/100\n",
      "50/50 [==============================] - 18s 351ms/step - loss: 0.2933 - accuracy: 0.9106 - val_loss: 0.2586 - val_accuracy: 0.9262\n",
      "Epoch 31/100\n",
      "50/50 [==============================] - 17s 342ms/step - loss: 0.3090 - accuracy: 0.8963 - val_loss: 0.2039 - val_accuracy: 0.9337\n",
      "Epoch 32/100\n",
      "50/50 [==============================] - 17s 346ms/step - loss: 0.2981 - accuracy: 0.9038 - val_loss: 0.2125 - val_accuracy: 0.9400\n",
      "Epoch 33/100\n",
      "50/50 [==============================] - 17s 344ms/step - loss: 0.2921 - accuracy: 0.9056 - val_loss: 0.2622 - val_accuracy: 0.9237\n",
      "Epoch 34/100\n",
      "50/50 [==============================] - 17s 348ms/step - loss: 0.3310 - accuracy: 0.8906 - val_loss: 0.5877 - val_accuracy: 0.8475\n",
      "Epoch 35/100\n",
      "50/50 [==============================] - 17s 344ms/step - loss: 0.2523 - accuracy: 0.9156 - val_loss: 0.2687 - val_accuracy: 0.9463\n",
      "Epoch 36/100\n",
      "50/50 [==============================] - 17s 347ms/step - loss: 0.2631 - accuracy: 0.9200 - val_loss: 0.2228 - val_accuracy: 0.9362\n",
      "Epoch 37/100\n",
      "50/50 [==============================] - 18s 361ms/step - loss: 0.2434 - accuracy: 0.9187 - val_loss: 0.2842 - val_accuracy: 0.9125\n",
      "Epoch 38/100\n",
      "50/50 [==============================] - 17s 345ms/step - loss: 0.2598 - accuracy: 0.9162 - val_loss: 0.2453 - val_accuracy: 0.9312\n",
      "Epoch 39/100\n",
      "50/50 [==============================] - 18s 355ms/step - loss: 0.2811 - accuracy: 0.9087 - val_loss: 0.1798 - val_accuracy: 0.9463\n",
      "Epoch 40/100\n",
      "50/50 [==============================] - 18s 356ms/step - loss: 0.2399 - accuracy: 0.9212 - val_loss: 0.2006 - val_accuracy: 0.9538\n",
      "Epoch 41/100\n",
      "50/50 [==============================] - 18s 365ms/step - loss: 0.2631 - accuracy: 0.9169 - val_loss: 0.1932 - val_accuracy: 0.9488\n",
      "Epoch 42/100\n",
      "50/50 [==============================] - 17s 340ms/step - loss: 0.2883 - accuracy: 0.9144 - val_loss: 0.2003 - val_accuracy: 0.9375\n",
      "Epoch 43/100\n",
      "50/50 [==============================] - 17s 342ms/step - loss: 0.1895 - accuracy: 0.9425 - val_loss: 0.1211 - val_accuracy: 0.9638\n",
      "Epoch 44/100\n",
      "50/50 [==============================] - 17s 345ms/step - loss: 0.1990 - accuracy: 0.9356 - val_loss: 0.2491 - val_accuracy: 0.9350\n",
      "Epoch 45/100\n",
      "50/50 [==============================] - 17s 342ms/step - loss: 0.2243 - accuracy: 0.9269 - val_loss: 0.2299 - val_accuracy: 0.9337\n",
      "Epoch 46/100\n",
      "50/50 [==============================] - 17s 344ms/step - loss: 0.2417 - accuracy: 0.9244 - val_loss: 0.2315 - val_accuracy: 0.9400\n",
      "Epoch 47/100\n",
      "50/50 [==============================] - 17s 348ms/step - loss: 0.2373 - accuracy: 0.9356 - val_loss: 0.1965 - val_accuracy: 0.9438\n",
      "Epoch 48/100\n",
      "50/50 [==============================] - 17s 343ms/step - loss: 0.2068 - accuracy: 0.9381 - val_loss: 0.2299 - val_accuracy: 0.9337\n",
      "Epoch 49/100\n",
      "50/50 [==============================] - 17s 338ms/step - loss: 0.2201 - accuracy: 0.9394 - val_loss: 0.2051 - val_accuracy: 0.9450\n",
      "Epoch 50/100\n",
      "50/50 [==============================] - 17s 341ms/step - loss: 0.2174 - accuracy: 0.9331 - val_loss: 0.1512 - val_accuracy: 0.9588\n",
      "Epoch 51/100\n",
      "50/50 [==============================] - 17s 347ms/step - loss: 0.2025 - accuracy: 0.9287 - val_loss: 0.1924 - val_accuracy: 0.9388\n",
      "Epoch 52/100\n",
      "50/50 [==============================] - 17s 340ms/step - loss: 0.1653 - accuracy: 0.9513 - val_loss: 0.1378 - val_accuracy: 0.9613\n",
      "Epoch 53/100\n",
      "50/50 [==============================] - 17s 338ms/step - loss: 0.1901 - accuracy: 0.9413 - val_loss: 0.1901 - val_accuracy: 0.9388\n",
      "Epoch 54/100\n",
      "50/50 [==============================] - 17s 341ms/step - loss: 0.2026 - accuracy: 0.9369 - val_loss: 0.3913 - val_accuracy: 0.9075\n",
      "Epoch 55/100\n",
      "50/50 [==============================] - 17s 340ms/step - loss: 0.1900 - accuracy: 0.9419 - val_loss: 0.5017 - val_accuracy: 0.9038\n",
      "Epoch 56/100\n",
      "50/50 [==============================] - 17s 348ms/step - loss: 0.1855 - accuracy: 0.9406 - val_loss: 0.2041 - val_accuracy: 0.9500\n",
      "Epoch 57/100\n",
      "50/50 [==============================] - 17s 341ms/step - loss: 0.1770 - accuracy: 0.9456 - val_loss: 0.2633 - val_accuracy: 0.9388\n",
      "Epoch 58/100\n",
      "50/50 [==============================] - 17s 347ms/step - loss: 0.2003 - accuracy: 0.9438 - val_loss: 0.2176 - val_accuracy: 0.9550\n",
      "Epoch 59/100\n",
      "50/50 [==============================] - 17s 338ms/step - loss: 0.1626 - accuracy: 0.9506 - val_loss: 0.3070 - val_accuracy: 0.9187\n",
      "Epoch 60/100\n",
      "50/50 [==============================] - 18s 353ms/step - loss: 0.1915 - accuracy: 0.9388 - val_loss: 0.2592 - val_accuracy: 0.9463\n",
      "Epoch 61/100\n",
      "50/50 [==============================] - 19s 372ms/step - loss: 0.1431 - accuracy: 0.9594 - val_loss: 0.1666 - val_accuracy: 0.9513\n",
      "Epoch 62/100\n",
      "50/50 [==============================] - 18s 370ms/step - loss: 0.1561 - accuracy: 0.9506 - val_loss: 0.3095 - val_accuracy: 0.9450\n",
      "Epoch 63/100\n",
      "50/50 [==============================] - 18s 355ms/step - loss: 0.1674 - accuracy: 0.9519 - val_loss: 0.1698 - val_accuracy: 0.9575\n",
      "Epoch 64/100\n",
      "50/50 [==============================] - 18s 354ms/step - loss: 0.1898 - accuracy: 0.9456 - val_loss: 0.2437 - val_accuracy: 0.9413\n",
      "Epoch 65/100\n",
      "50/50 [==============================] - 17s 343ms/step - loss: 0.1654 - accuracy: 0.9488 - val_loss: 0.3084 - val_accuracy: 0.9362\n",
      "Epoch 66/100\n",
      "50/50 [==============================] - 17s 344ms/step - loss: 0.1722 - accuracy: 0.9488 - val_loss: 0.2464 - val_accuracy: 0.9287\n",
      "Epoch 67/100\n",
      "50/50 [==============================] - 17s 345ms/step - loss: 0.1573 - accuracy: 0.9463 - val_loss: 0.2904 - val_accuracy: 0.9463\n",
      "Epoch 68/100\n",
      "50/50 [==============================] - 18s 352ms/step - loss: 0.1498 - accuracy: 0.9538 - val_loss: 0.1192 - val_accuracy: 0.9737\n",
      "Epoch 69/100\n",
      "50/50 [==============================] - 18s 351ms/step - loss: 0.1408 - accuracy: 0.9638 - val_loss: 0.2699 - val_accuracy: 0.9262\n",
      "Epoch 70/100\n",
      "50/50 [==============================] - 18s 365ms/step - loss: 0.1795 - accuracy: 0.9413 - val_loss: 0.3382 - val_accuracy: 0.9225\n",
      "Epoch 71/100\n",
      "50/50 [==============================] - 17s 347ms/step - loss: 0.1233 - accuracy: 0.9650 - val_loss: 0.1853 - val_accuracy: 0.9563\n",
      "Epoch 72/100\n",
      "50/50 [==============================] - 17s 348ms/step - loss: 0.1797 - accuracy: 0.9469 - val_loss: 0.2704 - val_accuracy: 0.9513\n",
      "Epoch 73/100\n",
      "50/50 [==============================] - 17s 345ms/step - loss: 0.1643 - accuracy: 0.9456 - val_loss: 0.1754 - val_accuracy: 0.9638\n",
      "Epoch 74/100\n",
      "50/50 [==============================] - 17s 350ms/step - loss: 0.1662 - accuracy: 0.9444 - val_loss: 0.1560 - val_accuracy: 0.9588\n",
      "Epoch 75/100\n",
      "50/50 [==============================] - 18s 353ms/step - loss: 0.1738 - accuracy: 0.9544 - val_loss: 0.1843 - val_accuracy: 0.9488\n",
      "Epoch 76/100\n",
      "50/50 [==============================] - 17s 347ms/step - loss: 0.1709 - accuracy: 0.9463 - val_loss: 0.0936 - val_accuracy: 0.9650\n",
      "Epoch 77/100\n",
      "50/50 [==============================] - 17s 348ms/step - loss: 0.1291 - accuracy: 0.9588 - val_loss: 0.1914 - val_accuracy: 0.9613\n",
      "Epoch 78/100\n",
      "50/50 [==============================] - 17s 349ms/step - loss: 0.1581 - accuracy: 0.9569 - val_loss: 0.2684 - val_accuracy: 0.9187\n",
      "Epoch 79/100\n",
      "50/50 [==============================] - 17s 342ms/step - loss: 0.1397 - accuracy: 0.9519 - val_loss: 0.1307 - val_accuracy: 0.9762\n",
      "Epoch 80/100\n",
      "50/50 [==============================] - 17s 343ms/step - loss: 0.1426 - accuracy: 0.9581 - val_loss: 0.0850 - val_accuracy: 0.9787\n",
      "Epoch 81/100\n",
      "50/50 [==============================] - 18s 358ms/step - loss: 0.1359 - accuracy: 0.9606 - val_loss: 0.2434 - val_accuracy: 0.9525\n",
      "Epoch 82/100\n",
      "50/50 [==============================] - 18s 351ms/step - loss: 0.1598 - accuracy: 0.9550 - val_loss: 0.2490 - val_accuracy: 0.9575\n",
      "Epoch 83/100\n",
      "50/50 [==============================] - 17s 348ms/step - loss: 0.1500 - accuracy: 0.9619 - val_loss: 0.2787 - val_accuracy: 0.9362\n",
      "Epoch 84/100\n",
      "50/50 [==============================] - 18s 352ms/step - loss: 0.1720 - accuracy: 0.9500 - val_loss: 0.1707 - val_accuracy: 0.9688\n",
      "Epoch 85/100\n",
      "50/50 [==============================] - 17s 350ms/step - loss: 0.1298 - accuracy: 0.9606 - val_loss: 0.0631 - val_accuracy: 0.9850\n",
      "Epoch 86/100\n",
      "50/50 [==============================] - 18s 352ms/step - loss: 0.1237 - accuracy: 0.9644 - val_loss: 0.1840 - val_accuracy: 0.9638\n",
      "Epoch 87/100\n",
      "50/50 [==============================] - 19s 370ms/step - loss: 0.1227 - accuracy: 0.9669 - val_loss: 0.1457 - val_accuracy: 0.9600\n",
      "Epoch 88/100\n",
      "50/50 [==============================] - 19s 375ms/step - loss: 0.1475 - accuracy: 0.9581 - val_loss: 0.2050 - val_accuracy: 0.9613\n",
      "Epoch 89/100\n",
      "50/50 [==============================] - 18s 361ms/step - loss: 0.1413 - accuracy: 0.9613 - val_loss: 0.2512 - val_accuracy: 0.9425\n",
      "Epoch 90/100\n",
      "50/50 [==============================] - 18s 352ms/step - loss: 0.1001 - accuracy: 0.9712 - val_loss: 0.1535 - val_accuracy: 0.9588\n",
      "Epoch 91/100\n",
      "50/50 [==============================] - 18s 351ms/step - loss: 0.1481 - accuracy: 0.9600 - val_loss: 0.1703 - val_accuracy: 0.9650\n",
      "Epoch 92/100\n",
      "50/50 [==============================] - 17s 347ms/step - loss: 0.1592 - accuracy: 0.9531 - val_loss: 0.1019 - val_accuracy: 0.9750\n",
      "Epoch 93/100\n",
      "50/50 [==============================] - 17s 345ms/step - loss: 0.1256 - accuracy: 0.9663 - val_loss: 0.2032 - val_accuracy: 0.9625\n",
      "Epoch 94/100\n",
      "50/50 [==============================] - 17s 350ms/step - loss: 0.1346 - accuracy: 0.9644 - val_loss: 0.2090 - val_accuracy: 0.9762\n",
      "Epoch 95/100\n",
      "50/50 [==============================] - 18s 352ms/step - loss: 0.1645 - accuracy: 0.9588 - val_loss: 0.2142 - val_accuracy: 0.9450\n",
      "Epoch 96/100\n",
      "50/50 [==============================] - 18s 351ms/step - loss: 0.1476 - accuracy: 0.9619 - val_loss: 0.1415 - val_accuracy: 0.9563\n",
      "Epoch 97/100\n",
      "50/50 [==============================] - 18s 355ms/step - loss: 0.1476 - accuracy: 0.9588 - val_loss: 0.1406 - val_accuracy: 0.9613\n",
      "Epoch 98/100\n",
      "50/50 [==============================] - 18s 353ms/step - loss: 0.2096 - accuracy: 0.9475 - val_loss: 0.1809 - val_accuracy: 0.9588\n",
      "Epoch 99/100\n",
      "50/50 [==============================] - 18s 358ms/step - loss: 0.0902 - accuracy: 0.9731 - val_loss: 0.1554 - val_accuracy: 0.9638\n",
      "Epoch 100/100\n",
      "50/50 [==============================] - 18s 365ms/step - loss: 0.1213 - accuracy: 0.9650 - val_loss: 0.2035 - val_accuracy: 0.9588\n"
     ]
    }
   ],
   "source": [
    "hist = model.fit_generator(\n",
    "        generator = train_generator,\n",
    "        steps_per_epoch = 1600 // batch_size,\n",
    "        epochs=epochs,\n",
    "        validation_data = test_generator,\n",
    "        validation_steps = 800 // batch_size)"
   ]
  },
  {
   "cell_type": "code",
   "execution_count": 34,
   "metadata": {},
   "outputs": [
    {
     "data": {
      "text/plain": [
       "dict_keys(['loss', 'accuracy', 'val_loss', 'val_accuracy'])"
      ]
     },
     "execution_count": 34,
     "metadata": {},
     "output_type": "execute_result"
    }
   ],
   "source": [
    "hist.history.keys()"
   ]
  },
  {
   "cell_type": "code",
   "execution_count": 35,
   "metadata": {},
   "outputs": [
    {
     "data": {
      "image/png": "[encoded data removed]",
      "text/plain": [
       "<Figure size 432x288 with 1 Axes>"
      ]
     },
     "metadata": {
      "needs_background": "light"
     },
     "output_type": "display_data"
    }
   ],
   "source": [
    "plt.figure()\n",
    "plt.plot(hist.history[\"loss\"],label = \"Train Loss\", color = \"black\")\n",
    "plt.plot(hist.history[\"val_loss\"],label = \"Validation Loss\", color = \"darkred\", linestyle=\"dashed\",markeredgecolor = \"purple\", markeredgewidth = 2)\n",
    "plt.title(\"Model Loss\", color = \"darkred\", size = 13)\n",
    "plt.legend()\n",
    "plt.show()"
   ]
  },
  {
   "cell_type": "code",
   "execution_count": 36,
   "metadata": {},
   "outputs": [
    {
     "data": {
      "image/png": "[encoded data removed]",
      "text/plain": [
       "<Figure size 432x288 with 1 Axes>"
      ]
     },
     "metadata": {
      "needs_background": "light"
     },
     "output_type": "display_data"
    }
   ],
   "source": [
    "plt.figure()\n",
    "plt.plot(hist.history[\"accuracy\"],label = \"Train Accuracy\", color = \"black\")\n",
    "plt.plot(hist.history[\"val_accuracy\"],label = \"Validation Accuracy\", color = \"darkred\", linestyle=\"dashed\",markeredgecolor = \"purple\", markeredgewidth = 2)\n",
    "plt.title(\"Model Accuracy\", color = \"darkred\", size = 13)\n",
    "plt.legend()\n",
    "plt.show()"
   ]
  },
  {
   "cell_type": "code",
   "execution_count": 37,
   "metadata": {
    "scrolled": false
   },
   "outputs": [
    {
     "name": "stdout",
     "output_type": "stream",
     "text": [
      "WARNING:tensorflow:From C:\\Users\\DooDoo\\AppData\\Roaming\\Python\\Python37\\site-packages\\tensorflow\\python\\training\\tracking\\tracking.py:111: Model.state_updates (from tensorflow.python.keras.engine.training) is deprecated and will be removed in a future version.\n",
      "Instructions for updating:\n",
      "This property should not be used in TensorFlow 2.0, as updates are applied automatically.\n",
      "WARNING:tensorflow:From C:\\Users\\DooDoo\\AppData\\Roaming\\Python\\Python37\\site-packages\\tensorflow\\python\\training\\tracking\\tracking.py:111: Layer.updates (from tensorflow.python.keras.engine.base_layer) is deprecated and will be removed in a future version.\n",
      "Instructions for updating:\n",
      "This property should not be used in TensorFlow 2.0, as updates are applied automatically.\n",
      "INFO:tensorflow:Assets written to: saved_model/1\\assets\n"
     ]
    }
   ],
   "source": [
    "export_dir = './saved_model/1'\n",
    "\n",
    "# YOUR CODE HERE\n",
    "tf.saved_model.save(model, export_dir)"
   ]
  },
  {
   "cell_type": "code",
   "execution_count": null,
   "metadata": {},
   "outputs": [],
   "source": []
  }
 ],
 "metadata": {
  "kernelspec": {
   "display_name": "Python 3",
   "language": "python",
   "name": "python3"
  },
  "language_info": {
   "codemirror_mode": {
    "name": "ipython",
    "version": 3
   },
   "file_extension": ".py",
   "mimetype": "text/x-python",
   "name": "python",
   "nbconvert_exporter": "python",
   "pygments_lexer": "ipython3",
   "version": "3.7.1"
  }
 },
 "nbformat": 4,
 "nbformat_minor": 4
}
